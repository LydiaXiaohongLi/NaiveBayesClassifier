{
 "cells": [
  {
   "cell_type": "code",
   "execution_count": 1,
   "metadata": {},
   "outputs": [],
   "source": [
    "import pandas as pd\n",
    "import numpy as np\n",
    "from scipy.stats import norm\n",
    "from scipy.stats import bernoulli\n",
    "from mnist import MNIST\n",
    "import matplotlib.pyplot as plt\n",
    "import cv2\n",
    "from sklearn.ensemble import RandomForestClassifier\n",
    "from sklearn import naive_bayes"
   ]
  },
  {
   "cell_type": "code",
   "execution_count": 2,
   "metadata": {},
   "outputs": [],
   "source": [
    "def train_test_split(X,y,test_ratio):\n",
    "    mask = np.random.rand(len(X))>test_ratio\n",
    "    X_train = X[mask]\n",
    "    y_train = y[mask]\n",
    "    X_test = X[np.invert(mask)]\n",
    "    y_test = y[np.invert(mask)]\n",
    "    return X_train, y_train, X_test, y_test"
   ]
  },
  {
   "cell_type": "code",
   "execution_count": 3,
   "metadata": {},
   "outputs": [],
   "source": [
    "class GuassianNB():\n",
    "        \n",
    "    def fit(self,X_train, y_train):\n",
    "        self.min_std = 0.00000001\n",
    "        self.nclass = np.unique(y_train).shape[0]\n",
    "        self.class_labels = np.unique(y_train)\n",
    "        self.nfeature = X_train.shape[1]\n",
    "        self.means = np.zeros((self.nclass,self.nfeature))\n",
    "        self.stds = np.zeros((self.nclass,self.nfeature))\n",
    "        self.log_py = np.zeros(self.nclass)\n",
    "        for i in range(self.nclass):\n",
    "            # Get the boolean vector to filter for y = i\n",
    "            mask = [l==self.class_labels[i] for l in y_train]\n",
    "            self.means[i] = np.nanmean(X_train[mask],axis=0)\n",
    "            # To avoid devide by 0/very small value issue, add a min for standard deviation to min_std = 0.00000001\n",
    "            self.stds[i] = np.clip(np.nanstd(X_train[mask],axis=0),self.min_std,None)\n",
    "            # calculate p(y=i)\n",
    "            self.log_py[i] = np.log(np.sum(mask)/len(y_train))\n",
    "    \n",
    "    def predict(self,X_test):\n",
    "        samples = X_test.shape[0]\n",
    "        log_py_on_x = np.zeros((samples,self.nclass))\n",
    "        for i in range(self.nclass):\n",
    "            log_py_on_x[:,i] = self.log_py[i] + np.nansum(np.log(norm.pdf(X_test,self.means[i],self.stds[i])),axis=1)\n",
    "        label = self.class_labels[np.argmax(log_py_on_x, axis=1)]\n",
    "        return label    \n",
    "        \n",
    "    \n",
    "    def score(self,X_test, y_test):\n",
    "        y_predict = self.predict(X_test)\n",
    "        return (y_predict == y_test).mean()     "
   ]
  },
  {
   "cell_type": "code",
   "execution_count": 4,
   "metadata": {},
   "outputs": [],
   "source": [
    "class BernoulliNB():\n",
    "        \n",
    "    def fit(self,X_train, y_train):\n",
    "        self.nclass = np.unique(y_train).shape[0]\n",
    "        self.class_labels = np.unique(y_train)\n",
    "        self.nfeature = X_train.shape[1]\n",
    "        self.pblacks = np.zeros((self.nclass,self.nfeature))\n",
    "        self.log_py = np.zeros(self.nclass)\n",
    "        for i in range(self.nclass):\n",
    "            # Get the boolean vector to filter for y = i\n",
    "            mask = [l==self.class_labels[i] for l in y_train]\n",
    "            self.pblacks[i] = np.mean(X_train[mask], axis=0)/255\n",
    "            # calculate p(y=i)\n",
    "            self.log_py[i] = np.log(np.sum(mask)/len(y_train))\n",
    "    \n",
    "    def predict(self,X_test):\n",
    "        samples = X_test.shape[0]\n",
    "        log_py_on_x = np.zeros((samples,self.nclass))\n",
    "        for i in range(self.nclass):\n",
    "            log_py_on_x[:,i] = self.log_py[i] + np.sum(np.log(bernoulli.pmf(X_test/255,self.pblacks[i])),axis=1)\n",
    "        label = self.class_labels[np.argmax(log_py_on_x, axis=1)]\n",
    "        return label       \n",
    "    \n",
    "    def score(self,X_test, y_test):\n",
    "        y_predict = self.predict(X_test)\n",
    "        return (y_predict == y_test).mean()    "
   ]
  },
  {
   "cell_type": "code",
   "execution_count": 5,
   "metadata": {},
   "outputs": [
    {
     "name": "stdout",
     "output_type": "stream",
     "text": [
      "average accuracy without missing value adjustment: 0.7507494038469942\n",
      "average accuracy with zero value adjusted as missing value for 'pres','skin','mass','age' attributes: 0.7455881667142005\n"
     ]
    },
    {
     "name": "stderr",
     "output_type": "stream",
     "text": [
      "C:\\Users\\rayso\\AppData\\Local\\conda\\conda\\envs\\tensorflow_env\\lib\\site-packages\\scipy\\stats\\_distn_infrastructure.py:876: RuntimeWarning: invalid value encountered in greater_equal\n",
      "  return (self.a <= x) & (x <= self.b)\n",
      "C:\\Users\\rayso\\AppData\\Local\\conda\\conda\\envs\\tensorflow_env\\lib\\site-packages\\scipy\\stats\\_distn_infrastructure.py:876: RuntimeWarning: invalid value encountered in less_equal\n",
      "  return (self.a <= x) & (x <= self.b)\n"
     ]
    }
   ],
   "source": [
    "# Test Guassian Naive Bayes with pima-indian-diabetes dataset\n",
    "data = pd.read_csv(\"data\\pima-indians-diabetes.csv\", header = None, names =['preg','plas','pres','skin','test','mass','pedi','age','class'])\n",
    "X=np.array(data[['preg','plas','pres','skin','test','mass','pedi','age']])\n",
    "y=np.array(data['class'])\n",
    "\n",
    "accuracy =[]\n",
    "for i in range(100):\n",
    "    X_train, y_train, X_test, y_test = train_test_split(X,y,0.2)\n",
    "    nb = GuassianNB()\n",
    "    nb.fit(X_train, y_train)\n",
    "    accuracy.append(nb.score(X_test, y_test))\n",
    "print(\"average accuracy without missing value adjustment: \"+str(np.mean(accuracy)))\n",
    "\n",
    "# regard zero value for 'pres', 'skin', 'mass' ,'age' as missing value\n",
    "for i in (2,3,5,7):\n",
    "    X[:,i][X[:,i]==0]=np.nan\n",
    "accuracy =[]\n",
    "for i in range(100):\n",
    "    X_train, y_train, X_test, y_test = train_test_split(X,y,0.2)\n",
    "    nb = GuassianNB()\n",
    "    nb.fit(X_train, y_train)\n",
    "    accuracy.append(nb.score(X_test, y_test))\n",
    "print(\"average accuracy with zero value adjusted as missing value for 'pres','skin','mass','age' attributes: \"+str(np.mean(accuracy)))"
   ]
  },
  {
   "cell_type": "code",
   "execution_count": 6,
   "metadata": {},
   "outputs": [
    {
     "name": "stdout",
     "output_type": "stream",
     "text": [
      "(sklearn) average accuracy without missing value adjustment: 0.7479630988521355\n"
     ]
    }
   ],
   "source": [
    "# Test Guassian Naive Bayes with pima-indian-diabetes dataset\n",
    "# Compare with sklearn Guassian/Bernoulli Naive Bayes\n",
    "data = pd.read_csv(\"data\\pima-indians-diabetes.csv\", header = None, names =['preg','plas','pres','skin','test','mass','pedi','age','class'])\n",
    "X=np.array(data[['preg','plas','pres','skin','test','mass','pedi','age']])\n",
    "y=np.array(data['class'])\n",
    "accuracy =[]\n",
    "for i in range(10):\n",
    "    X_train, y_train, X_test, y_test = train_test_split(X,y,0.2)\n",
    "    nb = naive_bayes.GaussianNB()\n",
    "    nb.fit(X_train, y_train)\n",
    "    accuracy.append(nb.score(X_test, y_test))\n",
    "print(\"(sklearn) average accuracy without missing value adjustment: \"+str(np.mean(accuracy)))\n"
   ]
  },
  {
   "cell_type": "code",
   "execution_count": 7,
   "metadata": {},
   "outputs": [],
   "source": [
    "# Test Guassian/Bernoulli Naive Bayes with mnist datase\n",
    "# MNIST dataset preprocessing with 1. thresholding 2.potentially stretched bounding box with size (20,20)\n",
    "class MNIST_Preproc():\n",
    "    def __init__(self, image_size=28, thresholding=50, stretchedBB_flag=False, resize=20):\n",
    "        self.image_size = image_size\n",
    "        self.stretchedB_flag = stretchedBB_flag\n",
    "        self.resize = resize\n",
    "        self.thresholding = thresholding\n",
    "    \n",
    "    def preproc(self,X):\n",
    "        self.n=X.shape[0]        \n",
    "        \n",
    "        if self.stretchedB_flag: \n",
    "            X_reshape = X.reshape(self.n,self.image_size,self.image_size).astype(float)\n",
    "            X_stretched_boundingbox = np.zeros((self.n,self.resize,self.resize))\n",
    "            for i in range(self.n):\n",
    "                X_stretched_boundingbox[i]=self.stretched_boundingbox_single(X_reshape[i])\n",
    "            X_stretched_boundingbox=X_stretched_boundingbox.reshape(self.n,self.resize*self.resize)\n",
    "            \n",
    "            # Image processing, thresholding\n",
    "            X_thresholding = (X_stretched_boundingbox >self.thresholding).astype(float)*255\n",
    "            \n",
    "            return X_thresholding\n",
    "        \n",
    "        # Image processing, thresholding, threshold at 50\n",
    "        X_thresholding = (X >self.thresholding).astype(float)*255\n",
    "        \n",
    "        return X_thresholding\n",
    "        \n",
    "    def stretched_boundingbox_single(self, img):\n",
    "        lower_bound =  np.where(np.any(img,axis=1))[0][0]\n",
    "        upper_bound =  np.where(np.any(img,axis=1))[0][-1]\n",
    "        left_bound =  np.where(np.any(img,axis=0))[0][0]\n",
    "        right_bound =  np.where(np.any(img,axis=0))[0][-1]\n",
    "        stretched_boundingbox = cv2.resize(img[lower_bound:upper_bound,left_bound:right_bound], (self.resize, self.resize)) \n",
    "        return stretched_boundingbox "
   ]
  },
  {
   "cell_type": "code",
   "execution_count": 8,
   "metadata": {},
   "outputs": [],
   "source": [
    "# Test Guassian/Bernoulli Naive Bayes with mnist datase\n",
    "# 1. Data loading & preprocesing\n",
    "mndata = MNIST('data')\n",
    "X_train, y_train = mndata.load_training()\n",
    "X_test, y_test = mndata.load_testing()\n",
    "\n",
    "# Preprocessing option1: Stretched Bounding Box with thresholding\n",
    "img_processor = MNIST_Preproc(stretchedBB_flag=True)\n",
    "X_train_stretchedBB = img_processor.preproc(np.array(X_train))\n",
    "X_test_stretchedBB = img_processor.preproc(np.array(X_test))\n",
    "# Preprocessing option2: Original data (without stretched bounding box) with thresholding\n",
    "img_processor = MNIST_Preproc(stretchedBB_flag=False)\n",
    "X_train = img_processor.preproc(np.array(X_train))\n",
    "X_test = img_processor.preproc(np.array(X_test))\n",
    "# Convert labels to array\n",
    "y_train = np.array(y_train)\n",
    "y_test = np.array(y_test)\n",
    "\n"
   ]
  },
  {
   "cell_type": "code",
   "execution_count": 9,
   "metadata": {},
   "outputs": [],
   "source": [
    "\n",
    "def model(stretchedBB_flag, classifier, NB_model, use_sklearn=False):\n",
    "    if stretchedBB_flag:\n",
    "        train_feature = X_train_stretchedBB\n",
    "        test_feature = X_test_stretchedBB\n",
    "    else:\n",
    "        train_feature = X_train\n",
    "        test_feature = X_test\n",
    "    if use_sklearn == False:\n",
    "        if (classifier == 'NB') & (NB_model =='Normal'):\n",
    "            classifier = GuassianNB()\n",
    "        if (classifier == 'NB') & (NB_model =='Bernoulli'):\n",
    "            classifier = BernoulliNB() \n",
    "    else:\n",
    "        if (classifier == 'NB') & (NB_model =='Normal'):\n",
    "            classifier = naive_bayes.GaussianNB()\n",
    "        if (classifier == 'NB') & (NB_model =='Bernoulli'):\n",
    "            classifier = naive_bayes.BernoulliNB() \n",
    "    \n",
    "    classifier.fit(train_feature,y_train)\n",
    "    \n",
    "    return classifier.score(test_feature,y_test)"
   ]
  },
  {
   "cell_type": "code",
   "execution_count": 10,
   "metadata": {},
   "outputs": [
    {
     "name": "stdout",
     "output_type": "stream",
     "text": [
      "NB-Normal with stretched-boundbing-box: 0.8285\n",
      "NB-Bernoulli with stretched-boundbing-box: 0.8217\n"
     ]
    },
    {
     "name": "stderr",
     "output_type": "stream",
     "text": [
      "C:\\Users\\rayso\\AppData\\Local\\conda\\conda\\envs\\tensorflow_env\\lib\\site-packages\\ipykernel_launcher.py:24: RuntimeWarning: divide by zero encountered in log\n"
     ]
    },
    {
     "name": "stdout",
     "output_type": "stream",
     "text": [
      "NB-Normal with no touch data: 0.4631\n"
     ]
    },
    {
     "name": "stderr",
     "output_type": "stream",
     "text": [
      "C:\\Users\\rayso\\AppData\\Local\\conda\\conda\\envs\\tensorflow_env\\lib\\site-packages\\ipykernel_launcher.py:20: RuntimeWarning: divide by zero encountered in log\n"
     ]
    },
    {
     "name": "stdout",
     "output_type": "stream",
     "text": [
      "NB-Bernoulli with no touch data: 0.8445\n"
     ]
    }
   ],
   "source": [
    "# Test Guassian/Bernoulli Naive Bayes with mnist datase\n",
    "# 2. Fit into Guassian/Bernoulli Naive Bayes with mnist datase\n",
    "print(\"NB-Normal with stretched-boundbing-box: \"+str(model(stretchedBB_flag=True, classifier='NB', NB_model='Normal')))\n",
    "print(\"NB-Bernoulli with stretched-boundbing-box: \"+str(model(stretchedBB_flag=True, classifier='NB', NB_model='Bernoulli')))\n",
    "print(\"NB-Normal with no touch data: \"+str(model(stretchedBB_flag=False, classifier='NB', NB_model='Normal')))\n",
    "print(\"NB-Bernoulli with no touch data: \"+str(model(stretchedBB_flag=False, classifier='NB', NB_model='Bernoulli')))"
   ]
  },
  {
   "cell_type": "code",
   "execution_count": 11,
   "metadata": {},
   "outputs": [
    {
     "data": {
      "image/png": "[encoded data removed]",
      "text/plain": [
       "<Figure size 432x288 with 20 Axes>"
      ]
     },
     "metadata": {
      "needs_background": "light"
     },
     "output_type": "display_data"
    }
   ],
   "source": [
    "# Test Guassian/Bernoulli Naive Bayes with mnist datase\n",
    "# 3.Visualization Guassian/Bernoulli Naive Bayes trained (on original data with thresholding) classifier with mnist datase\n",
    "nb = GuassianNB()\n",
    "nb.fit(X_train,y_train)\n",
    "\n",
    "for i in range(10):\n",
    "    plt.subplot(4, 5, i+1)\n",
    "    plt.imshow(nb.means[i].reshape(28,28))\n",
    "\n",
    "bernoulli_nb = BernoulliNB()\n",
    "bernoulli_nb.fit(X_train,y_train)\n",
    "\n",
    "for i in range(10):\n",
    "    plt.subplot(4, 5, i+11)\n",
    "    plt.imshow(np.array(bernoulli_nb.pblacks[i]).reshape(28,28))\n"
   ]
  },
  {
   "cell_type": "code",
   "execution_count": 12,
   "metadata": {},
   "outputs": [
    {
     "name": "stdout",
     "output_type": "stream",
     "text": [
      "(sklearn) NB-Normal with stretched-boundbing-box: 0.8285\n",
      "(sklearn) NB-Bernoulli with stretched-boundbing-box: 0.8215\n",
      "(sklearn) NB-Normal with no touch data: 0.5398\n",
      "(sklearn) NB-Bernoulli with no touch data: 0.8445\n"
     ]
    }
   ],
   "source": [
    "# Test Guassian/Bernoulli Naive Bayes with mnist datase\n",
    "# 4. Compare with sklearn Guassian/Bernoulli Naive Bayes\n",
    "print(\"(sklearn) NB-Normal with stretched-boundbing-box: \"+str(model(stretchedBB_flag=True, classifier='NB', NB_model='Normal',use_sklearn=True)))\n",
    "print(\"(sklearn) NB-Bernoulli with stretched-boundbing-box: \"+str(model(stretchedBB_flag=True, classifier='NB', NB_model='Bernoulli',use_sklearn=True)))\n",
    "print(\"(sklearn) NB-Normal with no touch data: \"+str(model(stretchedBB_flag=False, classifier='NB', NB_model='Normal',use_sklearn=True)))\n",
    "print(\"(sklearn) NB-Bernoulli with no touch data: \"+str(model(stretchedBB_flag=False, classifier='NB', NB_model='Bernoulli',use_sklearn=True)))"
   ]
  },
  {
   "cell_type": "code",
   "execution_count": null,
   "metadata": {},
   "outputs": [],
   "source": []
  }
 ],
 "metadata": {
  "kernelspec": {
   "display_name": "Python 3",
   "language": "python",
   "name": "python3"
  },
  "language_info": {
   "codemirror_mode": {
    "name": "ipython",
    "version": 3
   },
   "file_extension": ".py",
   "mimetype": "text/x-python",
   "name": "python",
   "nbconvert_exporter": "python",
   "pygments_lexer": "ipython3",
   "version": "3.6.8"
  }
 },
 "nbformat": 4,
 "nbformat_minor": 2
}
